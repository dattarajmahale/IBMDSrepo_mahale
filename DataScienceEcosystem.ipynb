{
 "cells": [
  {
   "cell_type": "markdown",
   "id": "3a87409a-12b6-4635-b63d-c1976015c5ad",
   "metadata": {},
   "source": [
    "# Data Science Tools and Ecosystem"
   ]
  },
  {
   "cell_type": "markdown",
   "id": "f1b7a3c1-a1af-4c0a-a0f0-12550ae468af",
   "metadata": {},
   "source": [
    "In this notebook, Data Science Tools and Ecosystem are summarized."
   ]
  },
  {
   "cell_type": "markdown",
   "id": "46cfa6c8-5a86-46b0-a78b-017ede98e534",
   "metadata": {
    "tags": []
   },
   "source": [
    "## Author \n",
    "Dattaraj Mahale"
   ]
  },
  {
   "cell_type": "markdown",
   "id": "98b412cf-6364-4fc1-a5f4-621d1f246462",
   "metadata": {},
   "source": [
    "**Objectives:**\n",
    "* List three popular languages used in data science\n",
    "* List three commonly used libraries used in data science\n",
    "* List three commonly used data science tools "
   ]
  },
  {
   "cell_type": "markdown",
   "id": "00e09f3f-632b-4e41-aea3-b03eb6f9c3c4",
   "metadata": {},
   "source": [
    "Some of the popular languages that Data Scientists use are:"
   ]
  },
  {
   "cell_type": "markdown",
   "id": "2eadec50-b94a-4c09-b31e-cf6e581c6ff7",
   "metadata": {},
   "source": [
    "<ol>\n",
    "<li>Python</li>\n",
    "<li>R</li>\n",
    "<li>Java</li>\n",
    "</ol>"
   ]
  },
  {
   "cell_type": "markdown",
   "id": "3604a7c8-ea2a-45b5-b8f3-070741052017",
   "metadata": {},
   "source": [
    "Some of the commonly used libraries used by Data Scientists include:"
   ]
  },
  {
   "cell_type": "markdown",
   "id": "805f8c20-ab92-4678-a6d6-97452537092d",
   "metadata": {},
   "source": [
    "<ol>\n",
    "<li>NumPy</li>\n",
    "<li>SciPy</li>\n",
    "<li>Pandas</li>\n",
    "</ol>"
   ]
  },
  {
   "cell_type": "markdown",
   "id": "58a741e6-efb4-459c-b6c9-932ef7687bff",
   "metadata": {},
   "source": [
    "| Data Science Tools |\n",
    "|--------------------|\n",
    "| Jupyter Notebook\n",
    "| Spyder             |\n",
    "| R Studio           "
   ]
  },
  {
   "cell_type": "markdown",
   "id": "5ad7735f-2b0b-42bd-9d28-5cda8aa227d6",
   "metadata": {},
   "source": [
    "### Below are a few examples of evaluating arithmetic expressions in Python.\n"
   ]
  },
  {
   "cell_type": "markdown",
   "id": "d2755d67-bc66-4645-95ef-536a194150a6",
   "metadata": {
    "tags": []
   },
   "source": [
    "This a simple arithmetic expression to mutiply then add integers"
   ]
  },
  {
   "cell_type": "code",
   "execution_count": 8,
   "id": "2213669d-1d7a-4d54-8cc2-32fab4126c8a",
   "metadata": {
    "tags": []
   },
   "outputs": [
    {
     "data": {
      "text/plain": [
       "17"
      ]
     },
     "execution_count": 8,
     "metadata": {},
     "output_type": "execute_result"
    }
   ],
   "source": [
    "(3 * 4) + 5"
   ]
  },
  {
   "cell_type": "markdown",
   "id": "685a9411-4c37-41f4-b2ec-ab23547a14f6",
   "metadata": {},
   "source": [
    "This will convert 200 minutes to hours by diving by 60"
   ]
  },
  {
   "cell_type": "code",
   "execution_count": 9,
   "id": "247dfdc4-7970-4767-bd1e-d2110574883d",
   "metadata": {
    "tags": []
   },
   "outputs": [
    {
     "data": {
      "text/plain": [
       "3.3333333333333335"
      ]
     },
     "execution_count": 9,
     "metadata": {},
     "output_type": "execute_result"
    }
   ],
   "source": [
    "200/60"
   ]
  }
 ],
 "metadata": {
  "kernelspec": {
   "display_name": "Python",
   "language": "python",
   "name": "conda-env-python-py"
  },
  "language_info": {
   "codemirror_mode": {
    "name": "ipython",
    "version": 3
   },
   "file_extension": ".py",
   "mimetype": "text/x-python",
   "name": "python",
   "nbconvert_exporter": "python",
   "pygments_lexer": "ipython3",
   "version": "3.7.12"
  }
 },
 "nbformat": 4,
 "nbformat_minor": 5
}
